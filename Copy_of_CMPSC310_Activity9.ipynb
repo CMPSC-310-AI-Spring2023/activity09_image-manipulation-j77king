{
  "nbformat": 4,
  "nbformat_minor": 0,
  "metadata": {
    "colab": {
      "provenance": [],
      "include_colab_link": true
    },
    "kernelspec": {
      "name": "python3",
      "display_name": "Python 3"
    },
    "language_info": {
      "name": "python"
    }
  },
  "cells": [
    {
      "cell_type": "markdown",
      "metadata": {
        "id": "view-in-github",
        "colab_type": "text"
      },
      "source": [
        "<a href=\"https://colab.research.google.com/github/CMPSC-310-AI-Spring2023/activity09_image-manipulation-j77king/blob/main/Copy_of_CMPSC310_Activity9.ipynb\" target=\"_parent\"><img src=\"https://colab.research.google.com/assets/colab-badge.svg\" alt=\"Open In Colab\"/></a>"
      ]
    },
    {
      "cell_type": "markdown",
      "source": [
        "# **Activity 9: Image Manipulation **\n"
      ],
      "metadata": {
        "id": "vcrrIOhGjS0Z"
      }
    },
    {
      "cell_type": "code",
      "source": [
        "import numpy as np\n",
        "import cv2\n",
        "\n",
        "rect = np.zeros((300,300), dtype = \"uint8\")\n",
        "cv2.rectangle(rect, (25,25), (275,275), 255, -1)\n",
        "cv2.imwrite('bitwise/rectangle.png', rect)"
      ],
      "metadata": {
        "id": "N_EatGICN57A",
        "colab": {
          "base_uri": "https://localhost:8080/"
        },
        "outputId": "838e70cf-131f-4b24-b1b6-9590d9be1608"
      },
      "execution_count": 2,
      "outputs": [
        {
          "output_type": "execute_result",
          "data": {
            "text/plain": [
              "False"
            ]
          },
          "metadata": {},
          "execution_count": 2
        }
      ]
    },
    {
      "cell_type": "code",
      "source": [
        "circ = np.zeros((300,300), dtype = 'uint8')\n",
        "cv2.circle(circ, (150,150), 150, 255, -1)\n",
        "cv2.imwrite('bitwise/circle.png', circ)"
      ],
      "metadata": {
        "colab": {
          "base_uri": "https://localhost:8080/"
        },
        "id": "261aIagvPeo-",
        "outputId": "5fceba6e-406d-49d0-c952-55cf0fffe174"
      },
      "execution_count": 3,
      "outputs": [
        {
          "output_type": "execute_result",
          "data": {
            "text/plain": [
              "False"
            ]
          },
          "metadata": {},
          "execution_count": 3
        }
      ]
    },
    {
      "cell_type": "code",
      "source": [
        "bitwiseAnd = cv2.bitwise_and(rect,circ)\n",
        "cv2.imwrite('bitwise/and.png', bitwiseAnd)"
      ],
      "metadata": {
        "colab": {
          "base_uri": "https://localhost:8080/"
        },
        "id": "Qg8pWrzrP76b",
        "outputId": "ec15d165-8aaa-417a-c4fc-af5ca9356ab1"
      },
      "execution_count": 4,
      "outputs": [
        {
          "output_type": "execute_result",
          "data": {
            "text/plain": [
              "False"
            ]
          },
          "metadata": {},
          "execution_count": 4
        }
      ]
    },
    {
      "cell_type": "code",
      "source": [
        "bitwiseOr = cv2.bitwise_or(rect,circ)\n",
        "cv2.imwrite('bitwise/OR.png', bitwiseOr)\n",
        "\n",
        "bitwiseNot = cv2.bitwise_not(rect,circ)\n",
        "cv2.imwrite('bitwise/NOT.png', bitwiseNot)"
      ],
      "metadata": {
        "colab": {
          "base_uri": "https://localhost:8080/"
        },
        "id": "5lHzeZWBQdIJ",
        "outputId": "6a53f954-73b0-46d0-dc90-0eac3e0818e3"
      },
      "execution_count": 5,
      "outputs": [
        {
          "output_type": "execute_result",
          "data": {
            "text/plain": [
              "False"
            ]
          },
          "metadata": {},
          "execution_count": 5
        }
      ]
    },
    {
      "cell_type": "code",
      "source": [
        "image = cv2.imread('sample_data/flint1.jpg')"
      ],
      "metadata": {
        "id": "74wr3HJ_Taw6"
      },
      "execution_count": 6,
      "outputs": []
    },
    {
      "cell_type": "code",
      "source": [
        "from google.colab import drive\n",
        "drive.mount('/content/drive')"
      ],
      "metadata": {
        "colab": {
          "base_uri": "https://localhost:8080/"
        },
        "id": "0W3NyQiDdjNU",
        "outputId": "9506437b-4c36-4c39-f189-e7debcad9574"
      },
      "execution_count": 1,
      "outputs": [
        {
          "output_type": "stream",
          "name": "stdout",
          "text": [
            "Mounted at /content/drive\n"
          ]
        }
      ]
    },
    {
      "cell_type": "code",
      "source": [
        "import numpy as np\n",
        "import cv2\n",
        "image = cv2.imread('/content/drive/MyDrive/Colab Notebooks/images/flint1.jpg')\n",
        "print(image.shape)\n",
        "\n",
        "mask = np.zeros(image.shape[:2], dtype = 'uint8')\n",
        "(cX, cY) = image.shape[1] // 2, image.shape[0] // 2\n",
        "cv2.rectangle(mask, (cX - 75, cY - 75), (cX + 75, cY + 75), 225, -1)\n",
        "cv2.imwrite('mask1.png', mask)\n",
        "\n",
        "masked = cv2.bitwise_and(image, image, mask=mask)\n",
        "cv2.imwrite('/content/drive/MyDrive/Colab Notebooks/images/masked1.png', masked)\n"
      ],
      "metadata": {
        "colab": {
          "base_uri": "https://localhost:8080/"
        },
        "id": "HSgihUkWTjV5",
        "outputId": "345b27f5-cf58-4b19-b20c-bdf4b69e4075"
      },
      "execution_count": 17,
      "outputs": [
        {
          "output_type": "stream",
          "name": "stdout",
          "text": [
            "(467, 350, 3)\n"
          ]
        },
        {
          "output_type": "execute_result",
          "data": {
            "text/plain": [
              "True"
            ]
          },
          "metadata": {},
          "execution_count": 17
        }
      ]
    },
    {
      "cell_type": "code",
      "source": [
        "import numpy as np\n",
        "import cv2\n",
        "\n",
        "image = cv2.imread('/content/drive/MyDrive/Colab Notebooks/images/awards.png')\n",
        "print(image.shape)\n",
        "\n",
        "mask = np.zeros(image.shape[:2], dtype = 'uint8')\n",
        "(cX, cY) = (image.shape[1] // 10, image.shape[0] // 10)\n",
        "cv2.rectangle(mask, (cX + 200, cY + 200), (cX + 3000, cY + 1200), 225, -1)\n",
        "cv2.imwrite('mask1.png', mask)\n",
        "\n",
        "masked = cv2.bitwise_and(image, image, mask=mask)\n",
        "cv2.imwrite('/content/drive/MyDrive/Colab Notebooks/images/masked1.png', masked)"
      ],
      "metadata": {
        "colab": {
          "base_uri": "https://localhost:8080/"
        },
        "id": "UvJq2TrmioJz",
        "outputId": "c9b3f0f8-4124-4646-deac-ed4c344bada6"
      },
      "execution_count": 22,
      "outputs": [
        {
          "output_type": "stream",
          "name": "stdout",
          "text": [
            "(3024, 4032, 3)\n"
          ]
        },
        {
          "output_type": "execute_result",
          "data": {
            "text/plain": [
              "True"
            ]
          },
          "metadata": {},
          "execution_count": 22
        }
      ]
    }
  ]
}